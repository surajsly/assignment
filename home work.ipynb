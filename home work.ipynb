{
 "cells": [
  {
   "cell_type": "code",
   "execution_count": 2,
   "metadata": {},
   "outputs": [
    {
     "name": "stdout",
     "output_type": "stream",
     "text": [
      "a =  10\n",
      "b =  20\n",
      "a =  30\n",
      "b =  20\n",
      "a =  30\n",
      "b =  10\n",
      "a =  20\n",
      "b =  10\n"
     ]
    }
   ],
   "source": [
    "# swap using XOR\n",
    "a=10\n",
    "b=20\n",
    "print(\"a = \" ,a)\n",
    "print(\"b = \", b)\n",
    "a^=b\n",
    "print(\"a = \" ,a)\n",
    "print(\"b = \", b)\n",
    "b^=a\n",
    "print(\"a = \" ,a)\n",
    "print(\"b = \", b)\n",
    "a^=b\n",
    "print(\"a = \" ,a)\n",
    "print(\"b = \", b)"
   ]
  },
  {
   "cell_type": "code",
   "execution_count": 5,
   "metadata": {},
   "outputs": [
    {
     "name": "stdout",
     "output_type": "stream",
     "text": [
      "suraj singh 9810859209 @ gmail.com\n",
      "9\n",
      "8\n",
      "1\n",
      "0\n",
      "8\n",
      "5\n",
      "9\n",
      "2\n",
      "0\n",
      "9\n"
     ]
    }
   ],
   "source": [
    "a = list(input())\n",
    "for i in a:\n",
    "    if(i.isdigit()==True):\n",
    "        print(i)"
   ]
  },
  {
   "cell_type": "code",
   "execution_count": 1,
   "metadata": {},
   "outputs": [
    {
     "name": "stdout",
     "output_type": "stream",
     "text": [
      "Enter no. of student : 3\n",
      "suraj 10\n"
     ]
    },
    {
     "ename": "ValueError",
     "evalue": "dictionary update sequence element #0 has length 5; 2 is required",
     "output_type": "error",
     "traceback": [
      "\u001b[1;31m---------------------------------------------------------------------------\u001b[0m",
      "\u001b[1;31mValueError\u001b[0m                                Traceback (most recent call last)",
      "\u001b[1;32m<ipython-input-1-bf1ce814f6f9>\u001b[0m in \u001b[0;36m<module>\u001b[1;34m\u001b[0m\n\u001b[0;32m      2\u001b[0m \u001b[0ma\u001b[0m \u001b[1;33m=\u001b[0m \u001b[1;33m{\u001b[0m\u001b[1;33m}\u001b[0m\u001b[1;33m\u001b[0m\u001b[1;33m\u001b[0m\u001b[0m\n\u001b[0;32m      3\u001b[0m \u001b[1;32mfor\u001b[0m \u001b[0mi\u001b[0m \u001b[1;32min\u001b[0m \u001b[0mrange\u001b[0m\u001b[1;33m(\u001b[0m\u001b[1;36m0\u001b[0m\u001b[1;33m,\u001b[0m\u001b[0mn\u001b[0m\u001b[1;33m)\u001b[0m\u001b[1;33m:\u001b[0m\u001b[1;33m\u001b[0m\u001b[1;33m\u001b[0m\u001b[0m\n\u001b[1;32m----> 4\u001b[1;33m     \u001b[0ma\u001b[0m \u001b[1;33m=\u001b[0m \u001b[0mdict\u001b[0m\u001b[1;33m(\u001b[0m\u001b[0minput\u001b[0m\u001b[1;33m(\u001b[0m\u001b[1;33m)\u001b[0m\u001b[1;33m.\u001b[0m\u001b[0msplit\u001b[0m\u001b[1;33m(\u001b[0m\u001b[1;33m)\u001b[0m \u001b[1;33m)\u001b[0m\u001b[1;33m\u001b[0m\u001b[1;33m\u001b[0m\u001b[0m\n\u001b[0m\u001b[0;32m      5\u001b[0m \u001b[0mprint\u001b[0m\u001b[1;33m(\u001b[0m\u001b[0ma\u001b[0m\u001b[1;33m)\u001b[0m\u001b[1;33m\u001b[0m\u001b[1;33m\u001b[0m\u001b[0m\n",
      "\u001b[1;31mValueError\u001b[0m: dictionary update sequence element #0 has length 5; 2 is required"
     ]
    }
   ],
   "source": [
    "n = int(input(\"Enter no. of student : \"))\n",
    "a = {}\n",
    "for i in range(0,n):\n",
    "    a = dict(input().split() )\n",
    "print(a)    "
   ]
  },
  {
   "cell_type": "code",
   "execution_count": 9,
   "metadata": {},
   "outputs": [
    {
     "ename": "SyntaxError",
     "evalue": "Generator expression must be parenthesized (<ipython-input-9-a22e8fda47b6>, line 2)",
     "output_type": "error",
     "traceback": [
      "\u001b[1;36m  File \u001b[1;32m\"<ipython-input-9-a22e8fda47b6>\"\u001b[1;36m, line \u001b[1;32m2\u001b[0m\n\u001b[1;33m    d = dict(input().split(),list for _ in range(n))\u001b[0m\n\u001b[1;37m                            ^\u001b[0m\n\u001b[1;31mSyntaxError\u001b[0m\u001b[1;31m:\u001b[0m Generator expression must be parenthesized\n"
     ]
    }
   ],
   "source": [
    "n = 3\n",
    "d = dict(input().split(),list for _ in range(n))\n",
    "print(d)"
   ]
  },
  {
   "cell_type": "code",
   "execution_count": 1,
   "metadata": {},
   "outputs": [
    {
     "name": "stdout",
     "output_type": "stream",
     "text": [
      "roll no. :10\n",
      "name :suraj\n",
      "branchECe\n"
     ]
    },
    {
     "ename": "AttributeError",
     "evalue": "'list' object has no attribute 'apppend'",
     "output_type": "error",
     "traceback": [
      "\u001b[1;31m---------------------------------------------------------------------------\u001b[0m",
      "\u001b[1;31mAttributeError\u001b[0m                            Traceback (most recent call last)",
      "\u001b[1;32m<ipython-input-1-eae6383ce903>\u001b[0m in \u001b[0;36m<module>\u001b[1;34m\u001b[0m\n\u001b[0;32m      5\u001b[0m     \u001b[0mname\u001b[0m \u001b[1;33m=\u001b[0m \u001b[0minput\u001b[0m\u001b[1;33m(\u001b[0m\u001b[1;34m\"name :\"\u001b[0m\u001b[1;33m)\u001b[0m\u001b[1;33m\u001b[0m\u001b[1;33m\u001b[0m\u001b[0m\n\u001b[0;32m      6\u001b[0m     \u001b[0mbarnch\u001b[0m \u001b[1;33m=\u001b[0m \u001b[0minput\u001b[0m\u001b[1;33m(\u001b[0m\u001b[1;34m\"branch\"\u001b[0m\u001b[1;33m)\u001b[0m\u001b[1;33m\u001b[0m\u001b[1;33m\u001b[0m\u001b[0m\n\u001b[1;32m----> 7\u001b[1;33m     \u001b[0ml\u001b[0m\u001b[1;33m.\u001b[0m\u001b[0mapppend\u001b[0m\u001b[1;33m(\u001b[0m\u001b[1;33m{\u001b[0m\u001b[1;34m\"roll no \"\u001b[0m\u001b[1;33m:\u001b[0m\u001b[0mroll\u001b[0m\u001b[1;33m,\u001b[0m\u001b[1;34m\"name\"\u001b[0m\u001b[1;33m:\u001b[0m\u001b[0mna\u001b[0m\u001b[1;33m}\u001b[0m\u001b[1;33m)\u001b[0m\u001b[1;33m\u001b[0m\u001b[1;33m\u001b[0m\u001b[0m\n\u001b[0m\u001b[0;32m      8\u001b[0m \u001b[1;33m\u001b[0m\u001b[0m\n",
      "\u001b[1;31mAttributeError\u001b[0m: 'list' object has no attribute 'apppend'"
     ]
    }
   ],
   "source": [
    "l = []\n",
    "n = 3\n",
    "for i in range (0,n):\n",
    "    roll= int(input(\"roll no. :\"))\n",
    "    name = input(\"name :\")\n",
    "    barnch = input(\"branch\")\n",
    "    l.apppend({\"roll no \":roll,\"name\":na})\n",
    "    "
   ]
  },
  {
   "cell_type": "code",
   "execution_count": 1,
   "metadata": {},
   "outputs": [
    {
     "name": "stdout",
     "output_type": "stream",
     "text": [
      "\n",
      "\n",
      "\n",
      "name : SUVx1000\n",
      "\n",
      "no of tyers :  4\n",
      "\n",
      "gear :  6\n",
      "\n",
      "cost :  5000000\n",
      "\n",
      "cc :  1000\n",
      "\n",
      "\n",
      "\n",
      "name : DUKE\n",
      "\n",
      "no of tyers :  2\n",
      "\n",
      "gear :  4\n",
      "\n",
      "cost :  100000\n",
      "\n",
      "ccm :  500\n",
      "\n",
      "\n",
      "\n",
      "name : mahindra2000\n",
      "\n",
      "no of tyers :  6\n",
      "\n",
      "gear :  8\n",
      "\n",
      "cost :  250000\n",
      "\n",
      "hp :  10000\n"
     ]
    }
   ],
   "source": [
    "class vehicle:\n",
    "    def __init__(self,name,numoftyres,cost,gear):\n",
    "        self.name = name\n",
    "        self.gear = gear\n",
    "        self.numoftyres=numoftyres\n",
    "        self.cost = cost\n",
    "        \n",
    "    def show(self):\n",
    "        print(\"\\n\\n\\nname : \" + self.name )\n",
    "        print(\"\\nno of tyers : \" ,self.numoftyres)\n",
    "        print(\"\\ngear : \",self.gear)\n",
    "        print(\"\\ncost : \",self.cost)\n",
    "        \n",
    "class car(vehicle):\n",
    "    def __init__(self,name,numoftyres,cost,gear,cc):\n",
    "        vehicle.__init__(self,name,numoftyres,cost,gear)\n",
    "        self.cc=cc\n",
    "    def show(self):\n",
    "        vehicle.show(self)\n",
    "        print(\"\\ncc : \",self.cc)\n",
    "        \n",
    "class bike():\n",
    "    def __init__(self,name,numoftyres,cost,gear,ccm):\n",
    "        vehicle.__init__(self,name,numoftyres,cost,gear)\n",
    "        self.ccm=ccm\n",
    "    def show(self):\n",
    "        vehicle.show(self)\n",
    "        print(\"\\nccm : \",self.ccm)\n",
    "        \n",
    "class truck():\n",
    "    def __init__(self,name,numoftyres,cost,gear,hp):\n",
    "        vehicle.__init__(self,name,numoftyres,cost,gear)\n",
    "        self.hp=hp\n",
    "    def show(self):\n",
    "        vehicle.show(self)\n",
    "        print(\"\\nhp : \",self.hp)\n",
    "        \n",
    "        \n",
    "        \n",
    "a = car(\"SUVx1000\",4,5000000,6,1000)        \n",
    "a.show()\n",
    "b = bike(\"DUKE\",2,100000,4,500)        \n",
    "b.show()\n",
    "c = truck(\"mahindra2000\",6,250000,8,10000)        \n",
    "c.show()"
   ]
  },
  {
   "cell_type": "markdown",
   "metadata": {},
   "source": [
    "# STACK \n",
    "#### (FIRST IN FIRST OUT)"
   ]
  },
  {
   "cell_type": "code",
   "execution_count": 3,
   "metadata": {},
   "outputs": [
    {
     "name": "stdout",
     "output_type": "stream",
     "text": [
      "Enter elements of list use spaces :my name is suraj singh\n",
      "enter choice : \n",
      "1.push \n",
      "2.pop \n",
      "2\n",
      "['my', 'name', 'is', 'suraj']\n"
     ]
    }
   ],
   "source": [
    "l = []\n",
    "a = input(\"Enter elements of list use spaces :\")\n",
    "l = a.split()\n",
    "print(\"enter choice : \\n1.push \\n2.pop \")\n",
    "ch=int(input())\n",
    "if(ch==1):\n",
    "    z=input(\"Enter a variable :\")\n",
    "    l.append(z)\n",
    "    print(l)\n",
    "elif(ch==2):\n",
    "    l.pop()\n",
    "    print(l)"
   ]
  },
  {
   "cell_type": "code",
   "execution_count": 5,
   "metadata": {},
   "outputs": [
    {
     "name": "stdout",
     "output_type": "stream",
     "text": [
      "Enter elements of list use spaces :suraj singh is my name\n",
      "enter choice : \n",
      "1.push \n",
      "2.pop \n",
      "2\n",
      "['singh', 'is', 'my', 'name']\n"
     ]
    }
   ],
   "source": [
    "l = []\n",
    "a = input(\"Enter elements of list use spaces :\")\n",
    "l = a.split()\n",
    "print(\"enter choice : \\n1.push \\n2.pop \")\n",
    "ch=int(input())\n",
    "if(ch==1):\n",
    "    z=input(\"Enter a variable :\")\n",
    "    l.append(z)\n",
    "    print(l)\n",
    "elif(ch==2):\n",
    "    l.pop(0)\n",
    "    print(l)"
   ]
  },
  {
   "cell_type": "code",
   "execution_count": null,
   "metadata": {},
   "outputs": [],
   "source": []
  }
 ],
 "metadata": {
  "kernelspec": {
   "display_name": "Python 3",
   "language": "python",
   "name": "python3"
  },
  "language_info": {
   "codemirror_mode": {
    "name": "ipython",
    "version": 3
   },
   "file_extension": ".py",
   "mimetype": "text/x-python",
   "name": "python",
   "nbconvert_exporter": "python",
   "pygments_lexer": "ipython3",
   "version": "3.7.3"
  }
 },
 "nbformat": 4,
 "nbformat_minor": 2
}
