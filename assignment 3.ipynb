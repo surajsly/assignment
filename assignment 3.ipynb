{
 "cells": [
  {
   "cell_type": "markdown",
   "metadata": {},
   "source": [
    "  Write a function that accepts two positional arguments (x and y) and returns x raised to power y. "
   ]
  },
  {
   "cell_type": "code",
   "execution_count": 1,
   "metadata": {},
   "outputs": [
    {
     "name": "stdout",
     "output_type": "stream",
     "text": [
      "100\n"
     ]
    }
   ],
   "source": [
    "def func(x,y):\n",
    "    return (x**y)\n",
    "\n",
    "print(func(10,2))"
   ]
  },
  {
   "cell_type": "markdown",
   "metadata": {},
   "source": [
    " Write a function that accepts two strings and returns the concatenation of the two. Also if  no argument is there in the call, return the concatenation of ‘Hello’ and ‘world’."
   ]
  },
  {
   "cell_type": "code",
   "execution_count": 4,
   "metadata": {},
   "outputs": [
    {
     "name": "stdout",
     "output_type": "stream",
     "text": [
      "suraj\n",
      "singh\n",
      "surajsingh\n"
     ]
    }
   ],
   "source": [
    "def concatenate(s1=\"hello\",s2=\"world\"):\n",
    "    return (s1+s2) \n",
    "s1=input()\n",
    "s2=input()\n",
    "print(concatenate(s1,s2))"
   ]
  },
  {
   "cell_type": "markdown",
   "metadata": {},
   "source": [
    "  Write a function which returns a bool, indicating if the input number is even or not."
   ]
  },
  {
   "cell_type": "code",
   "execution_count": 5,
   "metadata": {},
   "outputs": [
    {
     "name": "stdout",
     "output_type": "stream",
     "text": [
      "Enter a number:108\n",
      "True\n"
     ]
    }
   ],
   "source": [
    "def even(x):\n",
    "    if(x%2==0):\n",
    "        return True\n",
    "    else:\n",
    "        return False\n",
    "    \n",
    "print(even(int(input(\"Enter a number:\"))))    "
   ]
  },
  {
   "cell_type": "markdown",
   "metadata": {},
   "source": [
    "Write function which returns a bool, indicating if the input number is a prime or not."
   ]
  },
  {
   "cell_type": "code",
   "execution_count": 10,
   "metadata": {},
   "outputs": [
    {
     "name": "stdout",
     "output_type": "stream",
     "text": [
      "Enter a number:7\n",
      "True\n"
     ]
    }
   ],
   "source": [
    "def isprime(x):\n",
    "    flag = 1\n",
    "    for i in range(2,x//2):\n",
    "        if(x%i==0):\n",
    "            flag=0\n",
    "            return False\n",
    "        else: \n",
    "            pass\n",
    "    if(flag!=0):\n",
    "        return True\n",
    "val=isprime(int(input(\"Enter a number:\")))\n",
    "print(val)"
   ]
  },
  {
   "cell_type": "markdown",
   "metadata": {},
   "source": [
    "Write function which returns a bool, indicating if the input is a pallindrome or not. Example: ‘abba’ ==> True , ‘fkdjskj’ ==> False , 12345 ==> False , 1221 ==> True"
   ]
  },
  {
   "cell_type": "code",
   "execution_count": 6,
   "metadata": {},
   "outputs": [
    {
     "name": "stdout",
     "output_type": "stream",
     "text": [
      "True\n"
     ]
    }
   ],
   "source": [
    "def palindrome(a):\n",
    "    b=a[::-1]\n",
    "    if(a==b):\n",
    "        return True\n",
    "    else:\n",
    "        return False\n",
    "    \n",
    "print(palindrome(\"rammar\"))    "
   ]
  },
  {
   "cell_type": "markdown",
   "metadata": {},
   "source": [
    "Write a program that takes input a string and find the number of words in the string."
   ]
  },
  {
   "cell_type": "code",
   "execution_count": 17,
   "metadata": {},
   "outputs": [
    {
     "name": "stdout",
     "output_type": "stream",
     "text": [
      "enter a string:my name is suraj singh\n",
      "5\n"
     ]
    }
   ],
   "source": [
    "def countword(a):\n",
    "    count=1\n",
    "    for i in a:\n",
    "        if(i == ' '):\n",
    "            count+=1\n",
    "        else:\n",
    "            pass\n",
    "    return count\n",
    "\n",
    "print(countword(input(\"enter a string:\")))"
   ]
  },
  {
   "cell_type": "markdown",
   "metadata": {},
   "source": [
    " Write a program to find the largest of the three given numbers n,m,l. Example input 4,9,2 →9."
   ]
  },
  {
   "cell_type": "code",
   "execution_count": 20,
   "metadata": {},
   "outputs": [
    {
     "name": "stdout",
     "output_type": "stream",
     "text": [
      "1st number : 1\n",
      "second number : 2\n",
      "third number : 3\n",
      "maximum no. : 3\n"
     ]
    }
   ],
   "source": [
    "def max(n,m,l):\n",
    "    if(n>m and n>l):\n",
    "        return n\n",
    "    elif(m>n and m>l):\n",
    "        return m\n",
    "    elif(l>n and l>m):\n",
    "        return l\n",
    "\n",
    "print(\"maximum no. :\",(max(int(input(\"1st number : \")),int(input(\"second number : \")),int(input(\"third number : \")))))    "
   ]
  },
  {
   "cell_type": "markdown",
   "metadata": {},
   "source": [
    " Write a program which prints first N1 terms of the series 3n + 2 which are not multiples of N2. The program takes input N1 and N2. Example: if N1 = 10 and N2 = 4 ==>\n",
    "1  output:\n",
    "2  5\n",
    "3  11 \n",
    "4  14 \n",
    "5  17 \n",
    "6  23 \n",
    "7  26 \n",
    "8  29 \n",
    "9  35 \n",
    "10  38 \n",
    "11  41"
   ]
  },
  {
   "cell_type": "code",
   "execution_count": 28,
   "metadata": {},
   "outputs": [
    {
     "name": "stdout",
     "output_type": "stream",
     "text": [
      "N1:10\n",
      "N2:4\n",
      "5\n",
      "11\n",
      "14\n",
      "17\n",
      "23\n",
      "26\n",
      "29\n",
      "35\n",
      "38\n",
      "41\n"
     ]
    }
   ],
   "source": [
    "def printing(n1,n2):\n",
    "    count = 0\n",
    "    i=1\n",
    "    while(True):\n",
    "        if(((3*i)+2)%n2==0):\n",
    "            i+=1\n",
    "            pass\n",
    "        else:\n",
    "            print((3*i)+2)\n",
    "            i+=1\n",
    "            count+=1\n",
    "        if(count==n1):\n",
    "            break\n",
    "            \n",
    "            \n",
    "printing(int(input(\"N1:\")),int(input(\"N2:\")))            "
   ]
  },
  {
   "cell_type": "markdown",
   "metadata": {},
   "source": [
    "Write a program that reverses a number n (take n as input from user)"
   ]
  },
  {
   "cell_type": "code",
   "execution_count": 33,
   "metadata": {},
   "outputs": [
    {
     "name": "stdout",
     "output_type": "stream",
     "text": [
      "enter a number:123456789\n",
      "987654321\n"
     ]
    }
   ],
   "source": [
    "a=input(\"enter a number:\")\n",
    "if(a.isnumeric()==True):\n",
    "    b=a[::-1]\n",
    "    b=int(b)\n",
    "    print(b)\n",
    "else:\n",
    "    print(\"not a number\")"
   ]
  },
  {
   "cell_type": "markdown",
   "metadata": {},
   "source": [
    " Write a program to replace all the zeros in the number by 5. Example: input = 102920083, output ==> 152925583."
   ]
  },
  {
   "cell_type": "code",
   "execution_count": 50,
   "metadata": {},
   "outputs": [
    {
     "name": "stdout",
     "output_type": "stream",
     "text": [
      "enter a number : 10052024\n",
      "15552524\n"
     ]
    }
   ],
   "source": [
    "a=input(\"enter a number : \")\n",
    "if(a.isnumeric()==True):\n",
    "    a=list(a)\n",
    "    count=0\n",
    "    for i in a:\n",
    "        if(i=='0'):\n",
    "            a[count]='5'\n",
    "            count+=1\n",
    "        else:\n",
    "            count+=1\n",
    "    z=\"\"\n",
    "    for i in a:\n",
    "       z+=i \n",
    "    z=int(z)\n",
    "    print(z)\n",
    "\n",
    "    \n",
    "else:\n",
    "    print(\"not a number\")    "
   ]
  },
  {
   "cell_type": "markdown",
   "metadata": {},
   "source": [
    "Write a program to generate multiplication table for a number"
   ]
  },
  {
   "cell_type": "code",
   "execution_count": 1,
   "metadata": {},
   "outputs": [
    {
     "name": "stdout",
     "output_type": "stream",
     "text": [
      "enter a number : 5\n",
      "5 * 1 = 5\n",
      "5 * 2 = 10\n",
      "5 * 3 = 15\n",
      "5 * 4 = 20\n",
      "5 * 5 = 25\n",
      "5 * 6 = 30\n",
      "5 * 7 = 35\n",
      "5 * 8 = 40\n",
      "5 * 9 = 45\n",
      "5 * 10 = 50\n"
     ]
    }
   ],
   "source": [
    "n=int(input(\"enter a number : \"))\n",
    "for i in range(1,11):\n",
    "    print(n,\"*\",i,\"=\",n*i)\n",
    "    "
   ]
  },
  {
   "cell_type": "markdown",
   "metadata": {},
   "source": [
    "  Write a program to find sum of all the digits of a number. (take input from user). Example: n = 1845 ==> 18 , 1000 ==> 1."
   ]
  },
  {
   "cell_type": "code",
   "execution_count": 4,
   "metadata": {},
   "outputs": [
    {
     "name": "stdout",
     "output_type": "stream",
     "text": [
      "enter a number : 1825\n",
      "16\n"
     ]
    }
   ],
   "source": [
    "n=int(input(\"enter a number : \"))\n",
    "temp = n\n",
    "sum = 0\n",
    "while(temp > 0):\n",
    "    sum = sum + temp % 10\n",
    "    temp=temp//10\n",
    "print(sum)    "
   ]
  },
  {
   "cell_type": "markdown",
   "metadata": {},
   "source": [
    "  Write a program to remove all the puctuations ('!()-[]{};:'\"\\,<>./?@#$%^&*_~') from the input sentence."
   ]
  },
  {
   "cell_type": "code",
   "execution_count": 13,
   "metadata": {},
   "outputs": [
    {
     "name": "stdout",
     "output_type": "stream",
     "text": [
      "Enter a string:higieu<>:@%$~@E~@R%!#TT$^*-,\n",
      "higieuERTT\n"
     ]
    }
   ],
   "source": [
    "a = input(\"Enter a string:\")\n",
    "b=\"\"\n",
    "for i in a:\n",
    "    if(i=='!' or i=='(' or i==')' or i=='-' or i=='[' or i==']' or \n",
    "       i=='{' or i=='}' or i==':' or i==';' or i=='\"' or i==\"'\" or \n",
    "       i=='<' or i=='=' or i=='>' or i=='.' or i=='/' or i==\"?\" or \n",
    "       i=='@' or i=='#' or i=='$' or i=='%' or i=='^' or i=='&' or \n",
    "       i=='_' or i=='~' or i=='*' or i==','):\n",
    "        pass\n",
    "    else:\n",
    "        b+=i\n",
    "print(b)        \n",
    "        "
   ]
  },
  {
   "cell_type": "code",
   "execution_count": null,
   "metadata": {},
   "outputs": [],
   "source": []
  },
  {
   "cell_type": "code",
   "execution_count": null,
   "metadata": {},
   "outputs": [],
   "source": []
  }
 ],
 "metadata": {
  "kernelspec": {
   "display_name": "Python 3",
   "language": "python",
   "name": "python3"
  },
  "language_info": {
   "codemirror_mode": {
    "name": "ipython",
    "version": 3
   },
   "file_extension": ".py",
   "mimetype": "text/x-python",
   "name": "python",
   "nbconvert_exporter": "python",
   "pygments_lexer": "ipython3",
   "version": "3.7.3"
  }
 },
 "nbformat": 4,
 "nbformat_minor": 2
}
