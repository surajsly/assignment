{
 "cells": [
  {
   "cell_type": "code",
   "execution_count": 1,
   "metadata": {},
   "outputs": [
    {
     "name": "stdout",
     "output_type": "stream",
     "text": [
      "x=  3\n",
      "y= 5\n",
      "x=  5\n",
      "y= 3\n"
     ]
    }
   ],
   "source": [
    "x=3\n",
    "y=5\n",
    "print(\"x= \", x)\n",
    "print(\"y=\", y)\n",
    "x=x+y\n",
    "y=x-y\n",
    "x=x-y\n",
    "print(\"x= \", x)\n",
    "print(\"y=\", y)"
   ]
  },
  {
   "cell_type": "code",
   "execution_count": 2,
   "metadata": {},
   "outputs": [
    {
     "name": "stdout",
     "output_type": "stream",
     "text": [
      "enter the no.10\n",
      "even\n"
     ]
    }
   ],
   "source": [
    "x=int(input(\"enter the no.\"))\n",
    "if x%2==0 :\n",
    "  print(\"even\")\n",
    "else :\n",
    "  print(\"odd\")"
   ]
  },
  {
   "cell_type": "code",
   "execution_count": 2,
   "metadata": {},
   "outputs": [
    {
     "name": "stdout",
     "output_type": "stream",
     "text": [
      "enter a number :4\n",
      "square root of  4.0  is : 2.0\n"
     ]
    }
   ],
   "source": [
    "import math\n",
    "a = float(input(\"enter a number :\"))\n",
    "print(\"square root of \",a,\" is :\",math.sqrt(a))"
   ]
  },
  {
   "cell_type": "code",
   "execution_count": 3,
   "metadata": {},
   "outputs": [
    {
     "name": "stdout",
     "output_type": "stream",
     "text": [
      "enter a number :10\n",
      "Natural numbers is :\n",
      "1  , 2  , 3  , 4  , 5  , 6  , 7  , 8  , 9  , 10  , \n",
      "Natural numbers in reverse order is :\n",
      "10  , 9  , 8  , 7  , 6  , 5  , 4  , 3  , 2  , 1  , "
     ]
    }
   ],
   "source": [
    "n=int(input(\"enter a number :\"))\n",
    "print(\"Natural numbers is :\")\n",
    "for i in range(1,n+1):\n",
    "    print(i,\" , \",end = \"\")\n",
    "print(\"\\nNatural numbers in reverse order is :\")\n",
    "for i in range(n,0,-1):\n",
    "    print(i,\" , \",end = \"\")    "
   ]
  },
  {
   "cell_type": "code",
   "execution_count": 6,
   "metadata": {},
   "outputs": [
    {
     "name": "stdout",
     "output_type": "stream",
     "text": [
      "enter radius :10\n",
      "volume of sphere : 3140.0\n"
     ]
    }
   ],
   "source": [
    "r=float(input(\"enter radius :\"))\n",
    "print(\"volume of sphere :\",(3.14*r*r*r))"
   ]
  },
  {
   "cell_type": "code",
   "execution_count": 6,
   "metadata": {},
   "outputs": [
    {
     "name": "stdout",
     "output_type": "stream",
     "text": [
      "all the odd numbers between 1 to 100 :\n",
      "\n",
      "1  , 3  , 5  , 7  , 9  , 11  , 13  , 15  , 17  , 19  , 21  , 23  , 25  , 27  , 29  , 31  , 33  , 35  , 37  , 39  , 41  , 43  , 45  , 47  , 49  , 51  , 53  , 55  , 57  , 59  , 61  , 63  , 65  , 67  , 69  , 71  , 73  , 75  , 77  , 79  , 81  , 83  , 85  , 87  , 89  , 91  , 93  , 95  , 97  , 99  , \n",
      "\n",
      "all the even numbers between 1 to 100 :\n",
      "\n",
      "2  , 4  , 6  , 8  , 10  , 12  , 14  , 16  , 18  , 20  , 22  , 24  , 26  , 28  , 30  , 32  , 34  , 36  , 38  , 40  , 42  , 44  , 46  , 48  , 50  , 52  , 54  , 56  , 58  , 60  , 62  , 64  , 66  , 68  , 70  , 72  , 74  , 76  , 78  , 80  , 82  , 84  , 86  , 88  , 90  , 92  , 94  , 96  , 98  , 100  , "
     ]
    }
   ],
   "source": [
    "print(\"all the odd numbers between 1 to 100 :\\n\")\n",
    "for i in range(1,101,1):\n",
    "    if(i%2!=0):\n",
    "        print(i,\" , \", end = \"\")\n",
    "        \n",
    "        \n",
    "print(\"\\n\\nall the even numbers between 1 to 100 :\\n\")\n",
    "for i in range(1,101,1):\n",
    "    if(i%2==0):\n",
    "        print(i,\" , \", end = \"\")        "
   ]
  },
  {
   "cell_type": "code",
   "execution_count": 16,
   "metadata": {},
   "outputs": [
    {
     "name": "stdout",
     "output_type": "stream",
     "text": [
      "qudratic equation is in form of ax^2 + bx + c = 0 \n",
      "Enter a,b,c\n",
      "Enter a:2\n",
      "Enter b:4\n",
      "Enter c:1\n",
      "roots are :  -0.2928932188134524  ,  -1.7071067811865475\n"
     ]
    }
   ],
   "source": [
    "import math\n",
    "print(\"qudratic equation is in form of ax^2 + bx + c = 0 \\nEnter a,b,c\")\n",
    "a=float(input(\"Enter a:\"))\n",
    "b=float(input(\"Enter b:\"))\n",
    "c=float(input(\"Enter c:\"))\n",
    "d=math.sqrt((b*b)-(4*a*c))\n",
    "x1=((-b)+d)/(2*a)\n",
    "x2=((-b)-d)/(2*a)\n",
    "print(\"roots are : \", x1 ,\" , \" ,x2 )"
   ]
  },
  {
   "cell_type": "code",
   "execution_count": 18,
   "metadata": {},
   "outputs": [
    {
     "name": "stdout",
     "output_type": "stream",
     "text": [
      "Enter a number :5342\n",
      "number of digit : 4\n"
     ]
    }
   ],
   "source": [
    "count = 0;\n",
    "a=int(input(\"Enter a number :\"))\n",
    "temp = a\n",
    "while(temp > 0):\n",
    "    count+=1\n",
    "    temp=temp//10\n",
    "    \n",
    "print(\"number of digit :\",count)    "
   ]
  },
  {
   "cell_type": "code",
   "execution_count": 23,
   "metadata": {},
   "outputs": [
    {
     "name": "stdout",
     "output_type": "stream",
     "text": [
      "Enter a number : 14\n",
      "False\n"
     ]
    }
   ],
   "source": [
    "#false = not prime , true = prime ATQ \n",
    "flag = 0\n",
    "a=int(input(\"Enter a number : \"))\n",
    "for i in range(2,a//2):\n",
    "    if(a%i==0):\n",
    "        print(\"False\")\n",
    "        flag = 1\n",
    "        break;\n",
    "if(flag!=1):\n",
    "    print(\"True\")"
   ]
  },
  {
   "cell_type": "code",
   "execution_count": 35,
   "metadata": {},
   "outputs": [
    {
     "name": "stdout",
     "output_type": "stream",
     "text": [
      "Enter a  number :17\n",
      "sum : 60\n"
     ]
    }
   ],
   "source": [
    "sum = 0\n",
    "a = int(input(\"Enter a  number :\"))\n",
    "for i in range(0,a):\n",
    "    if((i%3==0) or (i%5==0)):\n",
    "        sum=sum+i\n",
    "        \n",
    "print(\"sum :\", sum)        "
   ]
  },
  {
   "cell_type": "code",
   "execution_count": 37,
   "metadata": {},
   "outputs": [
    {
     "name": "stdout",
     "output_type": "stream",
     "text": [
      "enter a number10\n",
      "enter your choice : \n",
      " 1. sum for 1 to n \n",
      " 2. product from 1 to n\n",
      "2\n",
      "product : 3628800\n"
     ]
    }
   ],
   "source": [
    "s = 0\n",
    "p = 1\n",
    "choice = 3\n",
    "n=int(input(\"enter a number\"))\n",
    "print(\"enter your choice : \\n 1. sum for 1 to n \\n 2. product from 1 to n\")\n",
    "choice=int(input())\n",
    "if(choice==1):\n",
    "    for i in range(1,n+1):\n",
    "        s+=i\n",
    "    print(\"sum :\", s)\n",
    "elif(choice==2):\n",
    "    for i in range(1,n+1):\n",
    "        p*=i\n",
    "    print(\"product :\", p) \n",
    "else:\n",
    "    print(\"wrong choice\")"
   ]
  },
  {
   "cell_type": "code",
   "execution_count": 39,
   "metadata": {},
   "outputs": [
    {
     "name": "stdout",
     "output_type": "stream",
     "text": [
      "sum of all the multiples of 3 OR 5 below 1000 : 466\n"
     ]
    }
   ],
   "source": [
    "s=0\n",
    "for i in range(1,1000):\n",
    "    if((i%3==0) or (i%5==0)):\n",
    "        s+=1\n",
    "print(\"sum of all the multiples of 3 OR 5 below 1000 :\", s)        "
   ]
  },
  {
   "cell_type": "code",
   "execution_count": 40,
   "metadata": {},
   "outputs": [
    {
     "name": "stdout",
     "output_type": "stream",
     "text": [
      "numbers which are divisible by 7 but not by 5 between 2000 and 3200 :\n",
      "2002 , 2009 , 2016 , 2023 , 2037 , 2044 , 2051 , 2058 , 2072 , 2079 , 2086 , 2093 , 2107 , 2114 , 2121 , 2128 , 2142 , 2149 , 2156 , 2163 , 2177 , 2184 , 2191 , 2198 , 2212 , 2219 , 2226 , 2233 , 2247 , 2254 , 2261 , 2268 , 2282 , 2289 , 2296 , 2303 , 2317 , 2324 , 2331 , 2338 , 2352 , 2359 , 2366 , 2373 , 2387 , 2394 , 2401 , 2408 , 2422 , 2429 , 2436 , 2443 , 2457 , 2464 , 2471 , 2478 , 2492 , 2499 , 2506 , 2513 , 2527 , 2534 , 2541 , 2548 , 2562 , 2569 , 2576 , 2583 , 2597 , 2604 , 2611 , 2618 , 2632 , 2639 , 2646 , 2653 , 2667 , 2674 , 2681 , 2688 , 2702 , 2709 , 2716 , 2723 , 2737 , 2744 , 2751 , 2758 , 2772 , 2779 , 2786 , 2793 , 2807 , 2814 , 2821 , 2828 , 2842 , 2849 , 2856 , 2863 , 2877 , 2884 , 2891 , 2898 , 2912 , 2919 , 2926 , 2933 , 2947 , 2954 , 2961 , 2968 , 2982 , 2989 , 2996 , 3003 , 3017 , 3024 , 3031 , 3038 , 3052 , 3059 , 3066 , 3073 , 3087 , 3094 , 3101 , 3108 , 3122 , 3129 , 3136 , 3143 , 3157 , 3164 , 3171 , 3178 , 3192 , 3199 , "
     ]
    }
   ],
   "source": [
    "print(\"numbers which are divisible by 7 but not by 5 between 2000 and 3200 :\")\n",
    "for i in range(2000,3201):\n",
    "    if((i%7==0) and (i%5!=0)):\n",
    "        print(i,end=\" , \")"
   ]
  },
  {
   "cell_type": "code",
   "execution_count": 44,
   "metadata": {},
   "outputs": [
    {
     "name": "stdout",
     "output_type": "stream",
     "text": [
      "diffrence between sum of square and square of sum of first 100 natural number : 25164150\n"
     ]
    }
   ],
   "source": [
    "sumofsq = 0\n",
    "sqofsum = 0\n",
    "for i in range(1,101):\n",
    "    sumofsq+=(i*i)\n",
    "for i in range(1,101):\n",
    "    sqofsum+=i\n",
    "sqofsum*=sqofsum\n",
    "print(\"diffrence between sum of square and square of sum of first 100 natural number :\",abs(sumofsq-sqofsum))\n",
    "    "
   ]
  },
  {
   "cell_type": "code",
   "execution_count": 2,
   "metadata": {},
   "outputs": [
    {
     "name": "stdout",
     "output_type": "stream",
     "text": [
      "Enter a number :10\n",
      "tpye 'stop' to terminate : s\n",
      "Enter a number :123\n",
      "tpye 'stop' to terminate : s\n",
      "Enter a number :1234\n",
      "tpye 'stop' to terminate : s\n",
      "Enter a number :145\n",
      "tpye 'stop' to terminate : stop\n",
      "total =  1512 \n",
      "count = 4 \n",
      "average = 378.0\n"
     ]
    }
   ],
   "source": [
    "total = 0\n",
    "count = 0\n",
    "a = \"start\"\n",
    "while(a!=\"stop\"):\n",
    "    n=int(input(\"Enter a number :\"))\n",
    "    total+=n\n",
    "    count+=1\n",
    "    a=input(\"tpye 'stop' to terminate : \")\n",
    "print(\"total = \",total,\"\\ncount =\",count,\"\\naverage =\",total/count)    \n"
   ]
  },
  {
   "cell_type": "code",
   "execution_count": 6,
   "metadata": {},
   "outputs": [
    {
     "name": "stdout",
     "output_type": "stream",
     "text": [
      "Enter a number : 50\n",
      "2 3 4 5 7 11 13 17 19 23 29 31 37 41 43 47 "
     ]
    }
   ],
   "source": [
    "def isprime(n):\n",
    "    flag = 1\n",
    "    for i in range(2,n//2):\n",
    "        if(n%i==0):\n",
    "            flag=0\n",
    "            break\n",
    "    if(flag!=0):\n",
    "        return 1\n",
    "    else:\n",
    "        return 0\n",
    "\n",
    "\n",
    "a=int(input(\"Enter a number : \"))\n",
    "for i in range(2,a+1):\n",
    "    check=isprime(i)\n",
    "    if(check==1):\n",
    "        print(i,end=\" \")\n",
    "    \n"
   ]
  },
  {
   "cell_type": "code",
   "execution_count": 7,
   "metadata": {},
   "outputs": [
    {
     "name": "stdout",
     "output_type": "stream",
     "text": [
      "Enter a number :5\n",
      "factorial of 5  :  120\n"
     ]
    }
   ],
   "source": [
    "fact = 1\n",
    "a=int(input(\"Enter a number :\"))\n",
    "for i in range(2,a+1):\n",
    "    fact*=i\n",
    "print(\"factorial of\",a,\" : \",fact)    "
   ]
  },
  {
   "cell_type": "code",
   "execution_count": 9,
   "metadata": {},
   "outputs": [
    {
     "name": "stdout",
     "output_type": "stream",
     "text": [
      "Enter number of term : 10\n",
      "0 1 1 2 3 5 8 13 21 34 "
     ]
    }
   ],
   "source": [
    "a=0\n",
    "b=1\n",
    "n=int(input(\"Enter number of term : \"))\n",
    "print(a,b,sep = \" \",end=\" \")\n",
    "for i in range(3,n+1):\n",
    "    c=a+b\n",
    "    print(c,end=\" \")\n",
    "    a=b\n",
    "    b=c"
   ]
  },
  {
   "cell_type": "code",
   "execution_count": 14,
   "metadata": {},
   "outputs": [
    {
     "name": "stdout",
     "output_type": "stream",
     "text": [
      "enter a number : 19\n",
      "factors of  19  : \n",
      "1 19 "
     ]
    }
   ],
   "source": [
    "n=int(input(\"enter a number : \"))\n",
    "print(\"factors of \",n,\" : \")\n",
    "for i in range(1,n+1):\n",
    "    if(n%i==0):\n",
    "        print(i,end=\" \")"
   ]
  },
  {
   "cell_type": "code",
   "execution_count": 18,
   "metadata": {},
   "outputs": [
    {
     "name": "stdout",
     "output_type": "stream",
     "text": [
      "* \n",
      "\n",
      "* * \n",
      "\n",
      "* * * \n",
      "\n",
      "* * * * \n",
      "\n",
      "* * * * * \n",
      "\n"
     ]
    }
   ],
   "source": [
    "nos = 1\n",
    "for i in range(0,5):\n",
    "    for j in range(0,i+1):\n",
    "        print(\"* \",end=\"\")\n",
    "        nos+=1\n",
    "    print(\"\\n\")        "
   ]
  },
  {
   "cell_type": "code",
   "execution_count": 21,
   "metadata": {},
   "outputs": [
    {
     "name": "stdout",
     "output_type": "stream",
     "text": [
      "* * * * * * * \n",
      "* * * * * * \n",
      "* * * * * \n",
      "* * * * \n",
      "* * * \n",
      "* * \n",
      "* \n"
     ]
    }
   ],
   "source": [
    "nos = 7\n",
    "temp =7\n",
    "for i in range(7,0,-1):\n",
    "    while(temp>0):\n",
    "        print(\"*\",end=\" \" )\n",
    "        temp-=1\n",
    "    nos-=1\n",
    "    temp=nos\n",
    "    print(\"\")"
   ]
  },
  {
   "cell_type": "code",
   "execution_count": 23,
   "metadata": {},
   "outputs": [
    {
     "name": "stdout",
     "output_type": "stream",
     "text": [
      "1 \n",
      "\n",
      "2 2 \n",
      "\n",
      "3 3 3 \n",
      "\n",
      "4 4 4 4 \n",
      "\n",
      "5 5 5 5 5 \n",
      "\n"
     ]
    }
   ],
   "source": [
    "for i in range(1,6):\n",
    "    for j in range(1,i+1):\n",
    "        print(i,end=\" \")\n",
    "    print(\"\\n\")        "
   ]
  },
  {
   "cell_type": "code",
   "execution_count": 25,
   "metadata": {},
   "outputs": [
    {
     "name": "stdout",
     "output_type": "stream",
     "text": [
      "\n",
      "     *\n",
      "    * *\n",
      "   * * *\n",
      "  * * * *\n",
      " * * * * *"
     ]
    }
   ],
   "source": [
    "nos=1\n",
    "s=1\n",
    "for i in range(5,0,-1):\n",
    "    print(\"\")\n",
    "    for j in range(5,s,-1):\n",
    "        print(\" \", end = \"\")\n",
    "    for k in range(0,nos):\n",
    "        print(\" *\",end = \"\")\n",
    "    nos+=1\n",
    "    s+=1;"
   ]
  },
  {
   "cell_type": "code",
   "execution_count": 26,
   "metadata": {},
   "outputs": [
    {
     "name": "stdout",
     "output_type": "stream",
     "text": [
      "1 \n",
      "\n",
      "2 3 \n",
      "\n",
      "4 5 6 \n",
      "\n",
      "7 8 9 10 \n",
      "\n"
     ]
    }
   ],
   "source": [
    "n=0\n",
    "for i in range(1,5):\n",
    "    for j in range(1,i+1):\n",
    "        n+=1\n",
    "        print(n,end=\" \")\n",
    "    print(\"\\n\")        "
   ]
  },
  {
   "cell_type": "code",
   "execution_count": 27,
   "metadata": {},
   "outputs": [
    {
     "name": "stdout",
     "output_type": "stream",
     "text": [
      "A \n",
      "\n",
      "B C \n",
      "\n",
      "D E F \n",
      "\n",
      "G H I J \n",
      "\n"
     ]
    }
   ],
   "source": [
    "n = 64\n",
    "for i in range(1,5):\n",
    "    for j in range(1,i+1):\n",
    "        n+=1\n",
    "        print(chr(n),end=\" \")\n",
    "    print(\"\\n\")        "
   ]
  },
  {
   "cell_type": "code",
   "execution_count": 28,
   "metadata": {},
   "outputs": [
    {
     "name": "stdout",
     "output_type": "stream",
     "text": [
      "Enter a number : 9\n",
      "sum : 11106\n"
     ]
    }
   ],
   "source": [
    "def numproduce(n,nod):\n",
    "    a=n\n",
    "    while(nod>1):\n",
    "       a*=10\n",
    "       a+=n\n",
    "       nod-=1\n",
    "    return a\n",
    "\n",
    "\n",
    "n=int(input(\"Enter a number : \"))\n",
    "sum = 0\n",
    "for i in range(1,5):\n",
    "    temp=numproduce(n,i)\n",
    "    sum+=temp\n",
    "\n",
    "print(\"sum :\",sum )\n",
    "    \n"
   ]
  },
  {
   "cell_type": "code",
   "execution_count": 9,
   "metadata": {},
   "outputs": [
    {
     "name": "stdout",
     "output_type": "stream",
     "text": [
      "Enter the first number:10\n",
      "Enter the second number:20\n",
      "LCM is: 20\n"
     ]
    }
   ],
   "source": [
    "a=int(input(\"Enter the first number:\"))\n",
    "b=int(input(\"Enter the second number:\"))\n",
    "if(a>b):\n",
    "    max=a\n",
    "else:\n",
    "    max=b\n",
    "while(1):\n",
    "    if(max%a==0 and max%b==0):\n",
    "        print(\"LCM is:\",max)\n",
    "        break\n",
    "    max=max+1"
   ]
  },
  {
   "cell_type": "code",
   "execution_count": null,
   "metadata": {},
   "outputs": [],
   "source": []
  }
 ],
 "metadata": {
  "kernelspec": {
   "display_name": "Python 3",
   "language": "python",
   "name": "python3"
  },
  "language_info": {
   "codemirror_mode": {
    "name": "ipython",
    "version": 3
   },
   "file_extension": ".py",
   "mimetype": "text/x-python",
   "name": "python",
   "nbconvert_exporter": "python",
   "pygments_lexer": "ipython3",
   "version": "3.7.3"
  }
 },
 "nbformat": 4,
 "nbformat_minor": 2
}
