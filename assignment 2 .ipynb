{
 "cells": [
  {
   "cell_type": "markdown",
   "metadata": {},
   "source": [
    "1. Find length of the string without using len() "
   ]
  },
  {
   "cell_type": "code",
   "execution_count": 1,
   "metadata": {},
   "outputs": [
    {
     "name": "stdout",
     "output_type": "stream",
     "text": [
      "Enter a string :surajsingh\n",
      "length of given string :  10\n"
     ]
    }
   ],
   "source": [
    "a = input(\"Enter a string :\")\n",
    "count = 0\n",
    "for i in (a):\n",
    "    count+=1\n",
    "print(\"length of given string : \",count)    "
   ]
  },
  {
   "cell_type": "markdown",
   "metadata": {},
   "source": [
    "2. Write a program that accepts two strings and outputs the concatenation of them.        \n",
    "Example: ‘hello’ , ‘world’ ==> ‘helloworld’ "
   ]
  },
  {
   "cell_type": "code",
   "execution_count": 2,
   "metadata": {},
   "outputs": [
    {
     "name": "stdout",
     "output_type": "stream",
     "text": [
      "Enter first string :suraj\n",
      "Enter second string :singh\n",
      "concatenation string :  surajsingh\n"
     ]
    }
   ],
   "source": [
    "a = input(\"Enter first string :\")\n",
    "b = input(\"Enter second string :\")\n",
    "c=a+b\n",
    "print(\"concatenation string : \",c)"
   ]
  },
  {
   "cell_type": "markdown",
   "metadata": {},
   "source": [
    " 3. Write a program that accepts a sentence (string) \n",
    "    and calculate the number of letters and digits.  \n",
    "    Example: ‘this is a test sentence number 389’ ==> letters = 25 and digits = 3."
   ]
  },
  {
   "cell_type": "code",
   "execution_count": 4,
   "metadata": {},
   "outputs": [
    {
     "name": "stdout",
     "output_type": "stream",
     "text": [
      "Enter a string :asf265fa6df419d4f5d4sdf4d\n",
      "number of alphabet :  14 \n",
      "number of digit :  11\n"
     ]
    }
   ],
   "source": [
    "a=input(\"Enter a string :\")\n",
    "alpha=0\n",
    "num=0\n",
    "\n",
    "for i in a:\n",
    "    test=i\n",
    "    if(test.isalpha()==True):\n",
    "        alpha+=1\n",
    "    elif(test.isdigit()==True):\n",
    "        num+=1\n",
    "print(\"number of alphabet : \",alpha,\"\\nnumber of digit : \",num)        "
   ]
  },
  {
   "cell_type": "markdown",
   "metadata": {},
   "source": [
    " 4. Write a program that accepts a string and outputs the string with all capital letters.        \n",
    " Example: ‘hello’ ==> ‘HELLO’"
   ]
  },
  {
   "cell_type": "code",
   "execution_count": 2,
   "metadata": {},
   "outputs": [
    {
     "name": "stdout",
     "output_type": "stream",
     "text": [
      "Enter a string : sUrAj123\n",
      "SURAJ123\n"
     ]
    }
   ],
   "source": [
    "a=input(\"Enter a string : \")\n",
    "a=a.upper()\n",
    "print(a)        \n"
   ]
  },
  {
   "cell_type": "markdown",
   "metadata": {},
   "source": [
    " 5. Write a program that accepts a sentence and calculate the number of upper case letters and lower case letters."
   ]
  },
  {
   "cell_type": "code",
   "execution_count": 1,
   "metadata": {},
   "outputs": [
    {
     "name": "stdout",
     "output_type": "stream",
     "text": [
      "Enter a string : surajSINGH\n",
      "Upper case :  5 \n",
      "Lower case :  5\n"
     ]
    }
   ],
   "source": [
    "a=input(\"Enter a string : \" )\n",
    "up=0\n",
    "low=0\n",
    "for i in a:\n",
    "    if(i.islower()==True):\n",
    "        low+=1\n",
    "    elif(i.isupper()==True):\n",
    "        up+=1\n",
    "    else:\n",
    "        pass\n",
    "print(\"Upper case : \",up,\"\\nLower case : \",low)    "
   ]
  },
  {
   "cell_type": "markdown",
   "metadata": {},
   "source": [
    " 6. Swap cases in a string using loops"
   ]
  },
  {
   "cell_type": "code",
   "execution_count": 2,
   "metadata": {},
   "outputs": [
    {
     "name": "stdout",
     "output_type": "stream",
     "text": [
      "Enter a string : Suraj\n",
      "sURAJ\n"
     ]
    }
   ],
   "source": [
    "a=input(\"Enter a string : \")\n",
    "b=''\n",
    "for i in a:\n",
    "   if(i.islower()==True):\n",
    "    b+=i.upper()\n",
    "   elif(i.isupper()==True):\n",
    "    b+=i.lower()\n",
    "    \n",
    "print(b)    "
   ]
  },
  {
   "cell_type": "markdown",
   "metadata": {},
   "source": [
    "7. Write  a program that counts the occurrence of a character in a string. \n",
    "   Example: ‘This is a test string.’ count of i = 3. "
   ]
  },
  {
   "cell_type": "code",
   "execution_count": 7,
   "metadata": {},
   "outputs": [
    {
     "name": "stdout",
     "output_type": "stream",
     "text": [
      "Enter a string : surajsingh\n",
      "enter a test chararacter :s\n",
      "number of time  s  is present in string '  surajsingh  ' is :  2\n"
     ]
    }
   ],
   "source": [
    "a=input(\"Enter a string : \")\n",
    "test=(input(\"enter a test chararacter :\"))\n",
    "count=0\n",
    "for i in a:\n",
    "    if(i==test):\n",
    "        count+=1\n",
    "        \n",
    "print(\"number of time \",test,\" is present in string ' \",a,\" ' is : \",count)        "
   ]
  },
  {
   "cell_type": "markdown",
   "metadata": {},
   "source": [
    " 8. Write a program to find if a given string is a pallindrome or not. "
   ]
  },
  {
   "cell_type": "code",
   "execution_count": 9,
   "metadata": {},
   "outputs": [
    {
     "name": "stdout",
     "output_type": "stream",
     "text": [
      "Enter a string : 123321\n",
      "palindrome\n"
     ]
    }
   ],
   "source": [
    "a=input(\"Enter a string : \")\n",
    "b=a[::-1]\n",
    "if(a==b):\n",
    "    print(\"palindrome\")\n",
    "else:\n",
    "    print(\"not palindrome\")"
   ]
  },
  {
   "cell_type": "markdown",
   "metadata": {},
   "source": [
    "9.  Write a program to that accepts a string s, an index number n and a character ‘c’. \n",
    "    And outputs the string replaced with the character at the index number n.\n"
   ]
  },
  {
   "cell_type": "code",
   "execution_count": 10,
   "metadata": {},
   "outputs": [
    {
     "name": "stdout",
     "output_type": "stream",
     "text": [
      "enter string : suraj\n",
      "enter index : 1\n",
      "character :P\n",
      "sPraj\n"
     ]
    }
   ],
   "source": [
    "a=input(\"enter string : \")\n",
    "n=int(input(\"enter index : \"))\n",
    "c=input(\"character :\")\n",
    "if(n<len(a)):\n",
    "    list1=list(a)\n",
    "    list1.pop(n)\n",
    "    list1.insert(n,c)\n",
    "    a=\"\"\n",
    "    for i in list1:\n",
    "        a+=i\n",
    "\n",
    "    print(a)\n",
    "\n",
    "else:\n",
    "   print(\"Index value error\")\n"
   ]
  },
  {
   "cell_type": "markdown",
   "metadata": {},
   "source": [
    " 10..   Output the integer number indicating the total number of occurrences of the substring in the original string."
   ]
  },
  {
   "cell_type": "code",
   "execution_count": 2,
   "metadata": {},
   "outputs": [
    {
     "name": "stdout",
     "output_type": "stream",
     "text": [
      "enter String: surajsurajsurajsinghsurajsuraj\n",
      "enter Substring: raj\n",
      "number of time ' raj ' appears in ' surajsurajsurajsinghsurajsuraj ' are : 5\n"
     ]
    }
   ],
   "source": [
    "a=input(\"enter String: \")\n",
    "b=input(\"enter Substring: \")\n",
    "print(\"number of time '\",b,\"' appears in '\",a,\"' are :\",a.count(b))"
   ]
  },
  {
   "cell_type": "markdown",
   "metadata": {},
   "source": [
    " 11.   Check if there are K consecutive 1’s in a binary number. Example: ’100100111011110010111’ \n",
    "       1  k = 3 output: True\n",
    "       2  k = 5 output: False"
   ]
  },
  {
   "cell_type": "code",
   "execution_count": 2,
   "metadata": {},
   "outputs": [
    {
     "name": "stdout",
     "output_type": "stream",
     "text": [
      "Enter binary number:111111\n",
      "Enter value of K:3\n",
      "True\n"
     ]
    }
   ],
   "source": [
    "a=input(\"Enter binary number:\")\n",
    "k=int(input(\"Enter value of K:\"))\n",
    "b='1'*k\n",
    "if(a.count(b) >= 1):\n",
    "    print(True)\n",
    "else:\n",
    "    print(False)"
   ]
  },
  {
   "cell_type": "markdown",
   "metadata": {},
   "source": [
    "12.  Reverse a string."
   ]
  },
  {
   "cell_type": "code",
   "execution_count": 11,
   "metadata": {},
   "outputs": [
    {
     "name": "stdout",
     "output_type": "stream",
     "text": [
      "Enter a string : abcdefgh\n",
      "hgfedcba\n"
     ]
    }
   ],
   "source": [
    "a=input(\"Enter a string : \")\n",
    "b=a[::-1]\n",
    "print(b)"
   ]
  },
  {
   "cell_type": "markdown",
   "metadata": {},
   "source": [
    "13.  Find the only one non repeated number in a string (rest all have pairs). \n",
    "     Example: ‘abcccdbfhdifih’ => has only 1 non pair c."
   ]
  },
  {
   "cell_type": "code",
   "execution_count": null,
   "metadata": {},
   "outputs": [],
   "source": []
  },
  {
   "cell_type": "markdown",
   "metadata": {},
   "source": [
    "14. Write a program which accepts two strings s1 and s2 and checks if s2 is a substring of s1."
   ]
  },
  {
   "cell_type": "code",
   "execution_count": 5,
   "metadata": {},
   "outputs": [
    {
     "name": "stdout",
     "output_type": "stream",
     "text": [
      "first string:surajsingh\n",
      "second string:raj\n",
      "True\n"
     ]
    }
   ],
   "source": [
    "s1=input(\"first string:\")\n",
    "s2=input(\"second string:\")\n",
    "if(s1.count(s2) >= 1):\n",
    "    print(True)\n",
    "else:\n",
    "    print(False)"
   ]
  },
  {
   "cell_type": "markdown",
   "metadata": {},
   "source": [
    " Make a password validator with the following checks. A website requires the users to input username and password to register. \n",
    " Write a program to check the validity of password input by users.  \n",
    " Following are the criteria for checking the password:       \n",
    " 1. At least 1 letter between [a-z]       \n",
    " 2. At least 1 number between [0-9]       \n",
    " 3. At least 1 letter between [A-Z]      \n",
    " 4. At least 1 character from [$#@]     \n",
    " 5. Minimum length of transaction password: 6       \n",
    " 6. Maximum length of transaction password: 12       \n",
    " Your program should accept a sequence of comma separated passwords and \n",
    " will check them according to the above criteria. \n",
    " Passwords that match the criteria are to be printed, each separated by a comma.       \n",
    " Example       If the following passwords are given as input to the program:       \n",
    " ABd1234@1,a F1#,2w3E*,2We3345       \n",
    " Then, the output of the program should be:       \n",
    " ABd1234@1"
   ]
  },
  {
   "cell_type": "code",
   "execution_count": 2,
   "metadata": {},
   "outputs": [
    {
     "name": "stdout",
     "output_type": "stream",
     "text": [
      "Enter :ABd1234@1,a F1#,2w3E*,2We3345,ABd1234@1,a F1#,2w3E*,2We3345\n",
      "ABd1234@1\n",
      "ABd1234@1\n"
     ]
    }
   ],
   "source": [
    "def check_a_to_z(password):\n",
    "    for i in password:\n",
    "        if(i.islower() == True):\n",
    "            return True\n",
    "    return False\n",
    "\n",
    "def check_A_to_Z(password):\n",
    "    for i in password:\n",
    "        if(i.isupper() == True):\n",
    "            return True\n",
    "    return False\n",
    "        \n",
    "def check_1_to_9(password):\n",
    "    for i in password:\n",
    "        if(i.isdigit() == True):\n",
    "            return True\n",
    "    return False    \n",
    "\n",
    "def check_special(password):\n",
    "    for i in password:\n",
    "        if(i=='@' or i=='#' or i=='$'):\n",
    "            return True\n",
    "    return False\n",
    "\n",
    "def checklength(password):\n",
    "    if(len(password) >= 6 and len(password) <= 12):\n",
    "        return True\n",
    "    else:\n",
    "        return False\n",
    "index = 0\n",
    "password=''\n",
    "string  = input(\"Enter :\")\n",
    "while(index < len(string)):\n",
    "    password=''\n",
    "    i = index\n",
    "    for i in range(index,len(string)):\n",
    "        if(string[i]!=','):\n",
    "            password+=string[i]\n",
    "            index+=1\n",
    "        else:\n",
    "            index+=1\n",
    "            break\n",
    "    if(check_a_to_z(password) and check_A_to_Z(password) and check_1_to_9(password) and check_special(password) and checklength(password)):\n",
    "        print(password)"
   ]
  },
  {
   "cell_type": "code",
   "execution_count": null,
   "metadata": {},
   "outputs": [],
   "source": []
  }
 ],
 "metadata": {
  "kernelspec": {
   "display_name": "Python 3",
   "language": "python",
   "name": "python3"
  },
  "language_info": {
   "codemirror_mode": {
    "name": "ipython",
    "version": 3
   },
   "file_extension": ".py",
   "mimetype": "text/x-python",
   "name": "python",
   "nbconvert_exporter": "python",
   "pygments_lexer": "ipython3",
   "version": "3.7.3"
  }
 },
 "nbformat": 4,
 "nbformat_minor": 2
}
